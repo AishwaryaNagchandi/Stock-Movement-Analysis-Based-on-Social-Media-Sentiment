{
  "nbformat": 4,
  "nbformat_minor": 0,
  "metadata": {
    "colab": {
      "provenance": [],
      "gpuType": "T4"
    },
    "kernelspec": {
      "name": "python3",
      "display_name": "Python 3"
    },
    "language_info": {
      "name": "python"
    },
    "accelerator": "GPU"
  },
  "cells": [
    {
      "cell_type": "code",
      "execution_count": 20,
      "metadata": {
        "id": "ENLT5GUqKNg9"
      },
      "outputs": [],
      "source": [
        "import pandas as pd\n",
        "import re\n",
        "import torch\n",
        "from torch.utils.data import Dataset, DataLoader\n",
        "from transformers import BertTokenizer, BertForSequenceClassification, AdamW\n",
        "from sklearn.model_selection import train_test_split\n",
        "from sklearn.metrics import confusion_matrix, classification_report, f1_score, recall_score, precision_score\n",
        "from sklearn.metrics import accuracy_score\n",
        "import torch.nn as nn\n"
      ]
    },
    {
      "cell_type": "markdown",
      "source": [
        "# Read the cleaned dataset from CSV"
      ],
      "metadata": {
        "id": "Kz88b6r6McSI"
      }
    },
    {
      "cell_type": "code",
      "source": [
        "try:\n",
        "    reddit_data = pd.read_csv(\"processed_reddit_data.csv\")  # Adjust path if necessary\n",
        "    # Ensure necessary columns are present\n",
        "    if \"cleaned_title\" not in reddit_data.columns:\n",
        "        reddit_data[\"cleaned_title\"] = reddit_data[\"title\"].apply(preprocess_text)\n",
        "    if \"score\" not in reddit_data.columns:\n",
        "        raise ValueError(\"Dataset must contain a 'score' column for sentiment assignment.\")\n",
        "except FileNotFoundError:\n",
        "    print(\"Error: File 'cleaned_reddit_data.csv' not found. Ensure the dataset is available.\")\n",
        "    raise"
      ],
      "metadata": {
        "id": "qZ_7tB8WMtBU"
      },
      "execution_count": 21,
      "outputs": []
    },
    {
      "cell_type": "markdown",
      "source": [
        "# Assign sentiment based on the score"
      ],
      "metadata": {
        "id": "CkF9gm2GM3ze"
      }
    },
    {
      "cell_type": "code",
      "source": [
        "reddit_data[\"sentiment\"] = reddit_data[\"score\"].apply(lambda x: 1 if x > 0 else 0)"
      ],
      "metadata": {
        "id": "9H0_kGeXM7FX"
      },
      "execution_count": 22,
      "outputs": []
    },
    {
      "cell_type": "markdown",
      "source": [
        "#Split data into training and validation sets"
      ],
      "metadata": {
        "id": "In7t_oOCNCXf"
      }
    },
    {
      "cell_type": "code",
      "source": [
        "train_texts, val_texts, train_labels, val_labels = train_test_split(\n",
        "    reddit_data[\"cleaned_title\"], reddit_data[\"sentiment\"], test_size=0.2, random_state=42\n",
        ")"
      ],
      "metadata": {
        "id": "GdcTFQqCNGA7"
      },
      "execution_count": 23,
      "outputs": []
    },
    {
      "cell_type": "markdown",
      "source": [
        "#Define the dataset class"
      ],
      "metadata": {
        "id": "Az-Xzn-gNIZA"
      }
    },
    {
      "cell_type": "code",
      "source": [
        "class RedditDataset(Dataset):\n",
        "    def __init__(self, texts, labels):\n",
        "        self.texts = texts\n",
        "        self.labels = labels\n",
        "\n",
        "    def __len__(self):\n",
        "        return len(self.texts)\n",
        "\n",
        "    def __getitem__(self, idx):\n",
        "        text = self.texts[idx]\n",
        "        label = self.labels[idx]\n",
        "        encoding = tokenizer(text, padding=\"max_length\", truncation=True, max_length=512, return_tensors=\"pt\")\n",
        "        return {\n",
        "            \"input_ids\": encoding[\"input_ids\"].squeeze(0),\n",
        "            \"attention_mask\": encoding[\"attention_mask\"].squeeze(0),\n",
        "            \"label\": torch.tensor(label, dtype=torch.long),\n",
        "        }\n"
      ],
      "metadata": {
        "id": "glET2UhXNMlR"
      },
      "execution_count": 24,
      "outputs": []
    },
    {
      "cell_type": "markdown",
      "source": [
        "#Load tokenizer and model"
      ],
      "metadata": {
        "id": "FQf-w8raNcWX"
      }
    },
    {
      "cell_type": "code",
      "source": [
        "tokenizer = BertTokenizer.from_pretrained(\"bert-base-uncased\")\n",
        "model = BertForSequenceClassification.from_pretrained(\"bert-base-uncased\", num_labels=2)\n",
        "\n",
        "device = torch.device(\"cuda\" if torch.cuda.is_available() else \"cpu\")\n",
        "model.to(device)"
      ],
      "metadata": {
        "colab": {
          "base_uri": "https://localhost:8080/"
        },
        "id": "-wuu9BZcNgIr",
        "outputId": "74eafb5f-57f8-4661-e003-3b8fe4920a8c"
      },
      "execution_count": 25,
      "outputs": [
        {
          "output_type": "stream",
          "name": "stderr",
          "text": [
            "Some weights of BertForSequenceClassification were not initialized from the model checkpoint at bert-base-uncased and are newly initialized: ['classifier.bias', 'classifier.weight']\n",
            "You should probably TRAIN this model on a down-stream task to be able to use it for predictions and inference.\n"
          ]
        },
        {
          "output_type": "execute_result",
          "data": {
            "text/plain": [
              "BertForSequenceClassification(\n",
              "  (bert): BertModel(\n",
              "    (embeddings): BertEmbeddings(\n",
              "      (word_embeddings): Embedding(30522, 768, padding_idx=0)\n",
              "      (position_embeddings): Embedding(512, 768)\n",
              "      (token_type_embeddings): Embedding(2, 768)\n",
              "      (LayerNorm): LayerNorm((768,), eps=1e-12, elementwise_affine=True)\n",
              "      (dropout): Dropout(p=0.1, inplace=False)\n",
              "    )\n",
              "    (encoder): BertEncoder(\n",
              "      (layer): ModuleList(\n",
              "        (0-11): 12 x BertLayer(\n",
              "          (attention): BertAttention(\n",
              "            (self): BertSdpaSelfAttention(\n",
              "              (query): Linear(in_features=768, out_features=768, bias=True)\n",
              "              (key): Linear(in_features=768, out_features=768, bias=True)\n",
              "              (value): Linear(in_features=768, out_features=768, bias=True)\n",
              "              (dropout): Dropout(p=0.1, inplace=False)\n",
              "            )\n",
              "            (output): BertSelfOutput(\n",
              "              (dense): Linear(in_features=768, out_features=768, bias=True)\n",
              "              (LayerNorm): LayerNorm((768,), eps=1e-12, elementwise_affine=True)\n",
              "              (dropout): Dropout(p=0.1, inplace=False)\n",
              "            )\n",
              "          )\n",
              "          (intermediate): BertIntermediate(\n",
              "            (dense): Linear(in_features=768, out_features=3072, bias=True)\n",
              "            (intermediate_act_fn): GELUActivation()\n",
              "          )\n",
              "          (output): BertOutput(\n",
              "            (dense): Linear(in_features=3072, out_features=768, bias=True)\n",
              "            (LayerNorm): LayerNorm((768,), eps=1e-12, elementwise_affine=True)\n",
              "            (dropout): Dropout(p=0.1, inplace=False)\n",
              "          )\n",
              "        )\n",
              "      )\n",
              "    )\n",
              "    (pooler): BertPooler(\n",
              "      (dense): Linear(in_features=768, out_features=768, bias=True)\n",
              "      (activation): Tanh()\n",
              "    )\n",
              "  )\n",
              "  (dropout): Dropout(p=0.1, inplace=False)\n",
              "  (classifier): Linear(in_features=768, out_features=2, bias=True)\n",
              ")"
            ]
          },
          "metadata": {},
          "execution_count": 25
        }
      ]
    },
    {
      "cell_type": "markdown",
      "source": [
        "# Prepare DataLoader"
      ],
      "metadata": {
        "id": "4YVpBHBgNtkE"
      }
    },
    {
      "cell_type": "code",
      "source": [
        "train_dataset = RedditDataset(list(train_texts), list(train_labels))\n",
        "val_dataset = RedditDataset(list(val_texts), list(val_labels))\n",
        "\n",
        "train_loader = DataLoader(train_dataset, batch_size=16, shuffle=True)\n",
        "val_loader = DataLoader(val_dataset, batch_size=16)"
      ],
      "metadata": {
        "id": "fcqPHyudNvbX"
      },
      "execution_count": 27,
      "outputs": []
    },
    {
      "cell_type": "markdown",
      "source": [
        "#Define optimizer and training loop"
      ],
      "metadata": {
        "id": "2KwVMtpwNxt_"
      }
    },
    {
      "cell_type": "code",
      "source": [
        "optimizer = AdamW(model.parameters(), lr=5e-5)"
      ],
      "metadata": {
        "colab": {
          "base_uri": "https://localhost:8080/"
        },
        "id": "IVS_qNvBN15A",
        "outputId": "9c6ff6ee-dc96-4a6d-f1a8-e5ac5666b5a1"
      },
      "execution_count": 28,
      "outputs": [
        {
          "output_type": "stream",
          "name": "stderr",
          "text": [
            "/usr/local/lib/python3.10/dist-packages/transformers/optimization.py:591: FutureWarning: This implementation of AdamW is deprecated and will be removed in a future version. Use the PyTorch implementation torch.optim.AdamW instead, or set `no_deprecation_warning=True` to disable this warning\n",
            "  warnings.warn(\n"
          ]
        }
      ]
    },
    {
      "cell_type": "markdown",
      "source": [
        "#Train the model"
      ],
      "metadata": {
        "id": "Q31fDaJOOFNz"
      }
    },
    {
      "cell_type": "code",
      "source": [
        "def train(model, data_loader, criterion, optimizer, device):\n",
        "    model.train()\n",
        "    total_loss = 0\n",
        "    correct = 0\n",
        "    total = 0\n",
        "\n",
        "    for batch in data_loader:\n",
        "        optimizer.zero_grad()\n",
        "\n",
        "        input_ids = batch[\"input_ids\"].to(device)\n",
        "        attention_mask = batch[\"attention_mask\"].to(device)\n",
        "        labels = batch[\"label\"].to(device)\n",
        "\n",
        "        outputs = model(input_ids, attention_mask=attention_mask)\n",
        "        logits = outputs.logits\n",
        "\n",
        "        loss = criterion(logits, labels)\n",
        "        loss.backward()\n",
        "        optimizer.step()\n",
        "\n",
        "        total_loss += loss.item()\n",
        "        preds = torch.argmax(logits, dim=1)\n",
        "        correct += (preds == labels).sum().item()\n",
        "        total += labels.size(0)\n",
        "\n",
        "    return total_loss / len(data_loader), correct / total"
      ],
      "metadata": {
        "id": "pokW7jrxN5vz"
      },
      "execution_count": 29,
      "outputs": []
    },
    {
      "cell_type": "code",
      "source": [
        "def evaluate_model_with_metrics(model, data_loader, device):\n",
        "    model.eval()\n",
        "    all_preds = []\n",
        "    all_labels = []\n",
        "\n",
        "    with torch.no_grad():\n",
        "        for batch in data_loader:\n",
        "            input_ids = batch[\"input_ids\"].to(device)\n",
        "            attention_mask = batch[\"attention_mask\"].to(device)\n",
        "            labels = batch[\"label\"].to(device)\n",
        "\n",
        "            outputs = model(input_ids, attention_mask=attention_mask)\n",
        "            logits = outputs.logits\n",
        "\n",
        "            preds = torch.argmax(logits, dim=1)\n",
        "            all_preds.extend(preds.cpu().numpy())\n",
        "            all_labels.extend(labels.cpu().numpy())\n",
        "\n",
        "    # Generate evaluation metrics\n",
        "    conf_matrix = confusion_matrix(all_labels, all_preds)\n",
        "    f1 = f1_score(all_labels, all_preds, average=\"weighted\")\n",
        "    recall = recall_score(all_labels, all_preds, average=\"weighted\")\n",
        "    precision = precision_score(all_labels, all_preds, average=\"weighted\")\n",
        "    report = classification_report(all_labels, all_preds, target_names=[\"positive\", \"negative\"], digits=4)\n",
        "\n",
        "    return conf_matrix, report, f1, recall, precision\n"
      ],
      "metadata": {
        "id": "WCHvEzOvjNEV"
      },
      "execution_count": 30,
      "outputs": []
    },
    {
      "cell_type": "code",
      "source": [
        "for epoch in range(10):\n",
        "    train_loss, train_acc = train(model, train_loader, criterion, optimizer, device)\n",
        "    conf_matrix, report, f1, recall, precision = evaluate_model_with_metrics(model, val_loader, device)\n",
        "\n",
        "    print(f\"Epoch {epoch+1}:\")\n",
        "    print(f\"Train Loss: {train_loss:.4f}, Train Accuracy: {train_acc:.4f}\")\n",
        "    print(\"Validation Metrics:\")\n",
        "    print(\"Confusion Matrix:\")\n",
        "    print(conf_matrix)\n",
        "    print(\"Classification Report:\")\n",
        "    print(report)\n",
        "    print(f\"F1 Score: {f1:.4f}, Recall: {recall:.4f}, Precision: {precision:.4f}\")\n",
        "    print(\"-\" * 60)\n"
      ],
      "metadata": {
        "colab": {
          "base_uri": "https://localhost:8080/"
        },
        "id": "CHaOhKoYOIH-",
        "outputId": "3723f767-280a-4656-eb1a-a811f2a286c7"
      },
      "execution_count": 31,
      "outputs": [
        {
          "output_type": "stream",
          "name": "stderr",
          "text": [
            "/usr/local/lib/python3.10/dist-packages/sklearn/metrics/_classification.py:1531: UndefinedMetricWarning: Precision is ill-defined and being set to 0.0 in labels with no predicted samples. Use `zero_division` parameter to control this behavior.\n",
            "  _warn_prf(average, modifier, f\"{metric.capitalize()} is\", len(result))\n",
            "/usr/local/lib/python3.10/dist-packages/sklearn/metrics/_classification.py:1531: UndefinedMetricWarning: Precision is ill-defined and being set to 0.0 in labels with no predicted samples. Use `zero_division` parameter to control this behavior.\n",
            "  _warn_prf(average, modifier, f\"{metric.capitalize()} is\", len(result))\n",
            "/usr/local/lib/python3.10/dist-packages/sklearn/metrics/_classification.py:1531: UndefinedMetricWarning: Precision is ill-defined and being set to 0.0 in labels with no predicted samples. Use `zero_division` parameter to control this behavior.\n",
            "  _warn_prf(average, modifier, f\"{metric.capitalize()} is\", len(result))\n",
            "/usr/local/lib/python3.10/dist-packages/sklearn/metrics/_classification.py:1531: UndefinedMetricWarning: Precision is ill-defined and being set to 0.0 in labels with no predicted samples. Use `zero_division` parameter to control this behavior.\n",
            "  _warn_prf(average, modifier, f\"{metric.capitalize()} is\", len(result))\n"
          ]
        },
        {
          "output_type": "stream",
          "name": "stdout",
          "text": [
            "Epoch 1:\n",
            "Train Loss: 0.5323, Train Accuracy: 0.7357\n",
            "Validation Metrics:\n",
            "Confusion Matrix:\n",
            "[[ 0  7]\n",
            " [ 0 50]]\n",
            "Classification Report:\n",
            "              precision    recall  f1-score   support\n",
            "\n",
            "    positive     0.0000    0.0000    0.0000         7\n",
            "    negative     0.8772    1.0000    0.9346        50\n",
            "\n",
            "    accuracy                         0.8772        57\n",
            "   macro avg     0.4386    0.5000    0.4673        57\n",
            "weighted avg     0.7695    0.8772    0.8198        57\n",
            "\n",
            "F1 Score: 0.8198, Recall: 0.8772, Precision: 0.7695\n",
            "------------------------------------------------------------\n",
            "Epoch 2:\n",
            "Train Loss: 0.4811, Train Accuracy: 0.7753\n",
            "Validation Metrics:\n",
            "Confusion Matrix:\n",
            "[[ 1  6]\n",
            " [ 0 50]]\n",
            "Classification Report:\n",
            "              precision    recall  f1-score   support\n",
            "\n",
            "    positive     1.0000    0.1429    0.2500         7\n",
            "    negative     0.8929    1.0000    0.9434        50\n",
            "\n",
            "    accuracy                         0.8947        57\n",
            "   macro avg     0.9464    0.5714    0.5967        57\n",
            "weighted avg     0.9060    0.8947    0.8582        57\n",
            "\n",
            "F1 Score: 0.8582, Recall: 0.8947, Precision: 0.9060\n",
            "------------------------------------------------------------\n",
            "Epoch 3:\n",
            "Train Loss: 0.3715, Train Accuracy: 0.8238\n",
            "Validation Metrics:\n",
            "Confusion Matrix:\n",
            "[[ 1  6]\n",
            " [ 4 46]]\n",
            "Classification Report:\n",
            "              precision    recall  f1-score   support\n",
            "\n",
            "    positive     0.2000    0.1429    0.1667         7\n",
            "    negative     0.8846    0.9200    0.9020        50\n",
            "\n",
            "    accuracy                         0.8246        57\n",
            "   macro avg     0.5423    0.5314    0.5343        57\n",
            "weighted avg     0.8005    0.8246    0.8117        57\n",
            "\n",
            "F1 Score: 0.8117, Recall: 0.8246, Precision: 0.8005\n",
            "------------------------------------------------------------\n",
            "Epoch 4:\n",
            "Train Loss: 0.2329, Train Accuracy: 0.9295\n",
            "Validation Metrics:\n",
            "Confusion Matrix:\n",
            "[[ 5  2]\n",
            " [13 37]]\n",
            "Classification Report:\n",
            "              precision    recall  f1-score   support\n",
            "\n",
            "    positive     0.2778    0.7143    0.4000         7\n",
            "    negative     0.9487    0.7400    0.8315        50\n",
            "\n",
            "    accuracy                         0.7368        57\n",
            "   macro avg     0.6132    0.7271    0.6157        57\n",
            "weighted avg     0.8663    0.7368    0.7785        57\n",
            "\n",
            "F1 Score: 0.7785, Recall: 0.7368, Precision: 0.8663\n",
            "------------------------------------------------------------\n",
            "Epoch 5:\n",
            "Train Loss: 0.1785, Train Accuracy: 0.9295\n",
            "Validation Metrics:\n",
            "Confusion Matrix:\n",
            "[[ 2  5]\n",
            " [ 6 44]]\n",
            "Classification Report:\n",
            "              precision    recall  f1-score   support\n",
            "\n",
            "    positive     0.2500    0.2857    0.2667         7\n",
            "    negative     0.8980    0.8800    0.8889        50\n",
            "\n",
            "    accuracy                         0.8070        57\n",
            "   macro avg     0.5740    0.5829    0.5778        57\n",
            "weighted avg     0.8184    0.8070    0.8125        57\n",
            "\n",
            "F1 Score: 0.8125, Recall: 0.8070, Precision: 0.8184\n",
            "------------------------------------------------------------\n",
            "Epoch 6:\n",
            "Train Loss: 0.0915, Train Accuracy: 0.9736\n",
            "Validation Metrics:\n",
            "Confusion Matrix:\n",
            "[[ 3  4]\n",
            " [ 6 44]]\n",
            "Classification Report:\n",
            "              precision    recall  f1-score   support\n",
            "\n",
            "    positive     0.3333    0.4286    0.3750         7\n",
            "    negative     0.9167    0.8800    0.8980        50\n",
            "\n",
            "    accuracy                         0.8246        57\n",
            "   macro avg     0.6250    0.6543    0.6365        57\n",
            "weighted avg     0.8450    0.8246    0.8337        57\n",
            "\n",
            "F1 Score: 0.8337, Recall: 0.8246, Precision: 0.8450\n",
            "------------------------------------------------------------\n",
            "Epoch 7:\n",
            "Train Loss: 0.0641, Train Accuracy: 0.9868\n",
            "Validation Metrics:\n",
            "Confusion Matrix:\n",
            "[[ 3  4]\n",
            " [ 9 41]]\n",
            "Classification Report:\n",
            "              precision    recall  f1-score   support\n",
            "\n",
            "    positive     0.2500    0.4286    0.3158         7\n",
            "    negative     0.9111    0.8200    0.8632        50\n",
            "\n",
            "    accuracy                         0.7719        57\n",
            "   macro avg     0.5806    0.6243    0.5895        57\n",
            "weighted avg     0.8299    0.7719    0.7959        57\n",
            "\n",
            "F1 Score: 0.7959, Recall: 0.7719, Precision: 0.8299\n",
            "------------------------------------------------------------\n",
            "Epoch 8:\n",
            "Train Loss: 0.0352, Train Accuracy: 0.9824\n",
            "Validation Metrics:\n",
            "Confusion Matrix:\n",
            "[[ 2  5]\n",
            " [ 5 45]]\n",
            "Classification Report:\n",
            "              precision    recall  f1-score   support\n",
            "\n",
            "    positive     0.2857    0.2857    0.2857         7\n",
            "    negative     0.9000    0.9000    0.9000        50\n",
            "\n",
            "    accuracy                         0.8246        57\n",
            "   macro avg     0.5929    0.5929    0.5929        57\n",
            "weighted avg     0.8246    0.8246    0.8246        57\n",
            "\n",
            "F1 Score: 0.8246, Recall: 0.8246, Precision: 0.8246\n",
            "------------------------------------------------------------\n",
            "Epoch 9:\n",
            "Train Loss: 0.0405, Train Accuracy: 0.9912\n",
            "Validation Metrics:\n",
            "Confusion Matrix:\n",
            "[[ 3  4]\n",
            " [12 38]]\n",
            "Classification Report:\n",
            "              precision    recall  f1-score   support\n",
            "\n",
            "    positive     0.2000    0.4286    0.2727         7\n",
            "    negative     0.9048    0.7600    0.8261        50\n",
            "\n",
            "    accuracy                         0.7193        57\n",
            "   macro avg     0.5524    0.5943    0.5494        57\n",
            "weighted avg     0.8182    0.7193    0.7581        57\n",
            "\n",
            "F1 Score: 0.7581, Recall: 0.7193, Precision: 0.8182\n",
            "------------------------------------------------------------\n",
            "Epoch 10:\n",
            "Train Loss: 0.0585, Train Accuracy: 0.9824\n",
            "Validation Metrics:\n",
            "Confusion Matrix:\n",
            "[[ 0  7]\n",
            " [ 1 49]]\n",
            "Classification Report:\n",
            "              precision    recall  f1-score   support\n",
            "\n",
            "    positive     0.0000    0.0000    0.0000         7\n",
            "    negative     0.8750    0.9800    0.9245        50\n",
            "\n",
            "    accuracy                         0.8596        57\n",
            "   macro avg     0.4375    0.4900    0.4623        57\n",
            "weighted avg     0.7675    0.8596    0.8110        57\n",
            "\n",
            "F1 Score: 0.8110, Recall: 0.8596, Precision: 0.7675\n",
            "------------------------------------------------------------\n"
          ]
        }
      ]
    },
    {
      "cell_type": "code",
      "source": [
        "model.save_pretrained(\"bert_sentiment_model\")\n",
        "tokenizer.save_pretrained(\"bert_sentiment_model\")\n",
        "\n",
        "print(\"Model training complete and saved!\")"
      ],
      "metadata": {
        "colab": {
          "base_uri": "https://localhost:8080/"
        },
        "id": "ZKPf1QqGOULl",
        "outputId": "7cbadd41-be82-4e74-89c0-42afb79415e5"
      },
      "execution_count": 13,
      "outputs": [
        {
          "output_type": "stream",
          "name": "stdout",
          "text": [
            "Model training complete and saved!\n"
          ]
        }
      ]
    },
    {
      "cell_type": "code",
      "source": [
        "def test_model(model, test_loader, device):\n",
        "    model.eval()\n",
        "    all_preds = []\n",
        "    all_labels = []\n",
        "\n",
        "    with torch.no_grad():\n",
        "        for batch in test_loader:\n",
        "            input_ids = batch[\"input_ids\"].to(device)\n",
        "            attention_mask = batch[\"attention_mask\"].to(device)\n",
        "            labels = batch[\"label\"].to(device)\n",
        "\n",
        "            outputs = model(input_ids, attention_mask=attention_mask)\n",
        "            logits = outputs.logits\n",
        "\n",
        "            preds = torch.argmax(logits, dim=1)\n",
        "            all_preds.extend(preds.cpu().numpy())\n",
        "            all_labels.extend(labels.cpu().numpy())\n",
        "\n",
        "    # Calculate evaluation metrics\n",
        "    conf_matrix = confusion_matrix(all_labels, all_preds)\n",
        "    f1 = f1_score(all_labels, all_preds, average=\"weighted\")\n",
        "    recall = recall_score(all_labels, all_preds, average=\"weighted\")\n",
        "    precision = precision_score(all_labels, all_preds, average=\"weighted\")\n",
        "    report = classification_report(all_labels, all_preds, target_names=[\"positive\", \"negative\"], digits=4)\n",
        "\n",
        "    print(\"Test Metrics:\")\n",
        "    print(\"Confusion Matrix:\")\n",
        "    print(conf_matrix)\n",
        "    print(\"Classification Report:\")\n",
        "    print(report)\n",
        "    print(f\"F1 Score: {f1:.4f}, Recall: {recall:.4f}, Precision: {precision:.4f}\")\n",
        "    print(\"-\" * 60)\n",
        "\n",
        "    return conf_matrix, report, f1, recall, precision\n"
      ],
      "metadata": {
        "id": "iNmF4rFWI0WC"
      },
      "execution_count": 35,
      "outputs": []
    },
    {
      "cell_type": "code",
      "source": [
        "conf_matrix, report, f1, recall, precision = test_model(model, val_loader, device)\n"
      ],
      "metadata": {
        "colab": {
          "base_uri": "https://localhost:8080/"
        },
        "id": "odqOsvtmI5wM",
        "outputId": "9df2c895-c33b-4f64-f1db-1757a22a4b13"
      },
      "execution_count": 36,
      "outputs": [
        {
          "output_type": "stream",
          "name": "stdout",
          "text": [
            "Test Metrics:\n",
            "Confusion Matrix:\n",
            "[[ 0  7]\n",
            " [ 1 49]]\n",
            "Classification Report:\n",
            "              precision    recall  f1-score   support\n",
            "\n",
            "    positive     0.0000    0.0000    0.0000         7\n",
            "    negative     0.8750    0.9800    0.9245        50\n",
            "\n",
            "    accuracy                         0.8596        57\n",
            "   macro avg     0.4375    0.4900    0.4623        57\n",
            "weighted avg     0.7675    0.8596    0.8110        57\n",
            "\n",
            "F1 Score: 0.8110, Recall: 0.8596, Precision: 0.7675\n",
            "------------------------------------------------------------\n"
          ]
        }
      ]
    }
  ]
}